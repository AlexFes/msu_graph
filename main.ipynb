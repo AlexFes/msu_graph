{
 "cells": [
  {
   "cell_type": "code",
   "execution_count": 1,
   "metadata": {},
   "outputs": [],
   "source": [
    "from igraph import *\n",
    "import cairo\n",
    "import pandas as pd\n",
    "import matplotlib\n",
    "import matplotlib.pyplot as plt\n",
    "\n",
    "import csv\n",
    "from itertools import groupby\n",
    "\n",
    "from utils import GraphWrapper\n",
    "\n",
    "%load_ext autoreload\n",
    "%autoreload 2"
   ]
  },
  {
   "cell_type": "markdown",
   "metadata": {},
   "source": [
    "## Basic info"
   ]
  },
  {
   "cell_type": "code",
   "execution_count": 2,
   "metadata": {},
   "outputs": [
    {
     "data": {
      "text/html": [
       "<div>\n",
       "<style scoped>\n",
       "    .dataframe tbody tr th:only-of-type {\n",
       "        vertical-align: middle;\n",
       "    }\n",
       "\n",
       "    .dataframe tbody tr th {\n",
       "        vertical-align: top;\n",
       "    }\n",
       "\n",
       "    .dataframe thead th {\n",
       "        text-align: right;\n",
       "    }\n",
       "</style>\n",
       "<table border=\"1\" class=\"dataframe\">\n",
       "  <thead>\n",
       "    <tr style=\"text-align: right;\">\n",
       "      <th></th>\n",
       "      <th>host</th>\n",
       "      <th>target</th>\n",
       "    </tr>\n",
       "  </thead>\n",
       "  <tbody>\n",
       "    <tr>\n",
       "      <th>0</th>\n",
       "      <td>RNF170</td>\n",
       "      <td>TMA16</td>\n",
       "    </tr>\n",
       "    <tr>\n",
       "      <th>1</th>\n",
       "      <td>RNF170</td>\n",
       "      <td>SLC1A1</td>\n",
       "    </tr>\n",
       "    <tr>\n",
       "      <th>2</th>\n",
       "      <td>RNF170</td>\n",
       "      <td>CAPN15</td>\n",
       "    </tr>\n",
       "    <tr>\n",
       "      <th>3</th>\n",
       "      <td>RNF170</td>\n",
       "      <td>RCOR1</td>\n",
       "    </tr>\n",
       "    <tr>\n",
       "      <th>4</th>\n",
       "      <td>RNF170</td>\n",
       "      <td>PIK3C2B</td>\n",
       "    </tr>\n",
       "  </tbody>\n",
       "</table>\n",
       "</div>"
      ],
      "text/plain": [
       "     host   target\n",
       "0  RNF170    TMA16\n",
       "1  RNF170   SLC1A1\n",
       "2  RNF170   CAPN15\n",
       "3  RNF170    RCOR1\n",
       "4  RNF170  PIK3C2B"
      ]
     },
     "execution_count": 2,
     "metadata": {},
     "output_type": "execute_result"
    }
   ],
   "source": [
    "df = pd.read_csv('processed/result.csv')\n",
    "df.head()"
   ]
  },
  {
   "cell_type": "code",
   "execution_count": 3,
   "metadata": {},
   "outputs": [],
   "source": [
    "miRNA_data = GraphWrapper(graph_df=df)"
   ]
  },
  {
   "cell_type": "code",
   "execution_count": 4,
   "metadata": {},
   "outputs": [
    {
     "data": {
      "text/plain": [
       "'IGRAPH DN-- 14187 224436 -- \\n+ attr: label (v), name (v)'"
      ]
     },
     "execution_count": 4,
     "metadata": {},
     "output_type": "execute_result"
    }
   ],
   "source": [
    "miRNA_data.graph.summary()"
   ]
  },
  {
   "cell_type": "code",
   "execution_count": 5,
   "metadata": {},
   "outputs": [
    {
     "data": {
      "text/plain": [
       "9"
      ]
     },
     "execution_count": 5,
     "metadata": {},
     "output_type": "execute_result"
    }
   ],
   "source": [
    "miRNA_data.graph.diameter()"
   ]
  },
  {
   "cell_type": "markdown",
   "metadata": {},
   "source": [
    "## Degree hist"
   ]
  },
  {
   "cell_type": "code",
   "execution_count": 27,
   "metadata": {},
   "outputs": [
    {
     "data": {
      "text/plain": [
       "(array([8.239e+03, 2.875e+03, 1.438e+03, 8.110e+02, 4.200e+02, 1.940e+02,\n",
       "        9.700e+01, 4.900e+01, 2.800e+01, 1.600e+01, 9.000e+00, 3.000e+00,\n",
       "        2.000e+00, 3.000e+00, 3.000e+00]),\n",
       " array([  0.        ,  12.66666667,  25.33333333,  38.        ,\n",
       "         50.66666667,  63.33333333,  76.        ,  88.66666667,\n",
       "        101.33333333, 114.        , 126.66666667, 139.33333333,\n",
       "        152.        , 164.66666667, 177.33333333, 190.        ]),\n",
       " <a list of 15 Patch objects>)"
      ]
     },
     "execution_count": 27,
     "metadata": {},
     "output_type": "execute_result"
    },
    {
     "data": {
      "image/png": "[encoded data removed]",
      "text/plain": [
       "<Figure size 432x288 with 1 Axes>"
      ]
     },
     "metadata": {
      "needs_background": "light"
     },
     "output_type": "display_data"
    }
   ],
   "source": [
    "fig, axs = plt.subplots(1, 1, sharey=True, tight_layout=True)\n",
    "axs.hist(miRNA_data.graph.degree(mode=\"in\"), bins=15)"
   ]
  },
  {
   "cell_type": "code",
   "execution_count": 26,
   "metadata": {},
   "outputs": [
    {
     "data": {
      "text/plain": [
       "(array([1.3781e+04, 2.4500e+02, 9.1000e+01, 3.5000e+01, 1.9000e+01,\n",
       "        5.0000e+00, 5.0000e+00, 0.0000e+00, 0.0000e+00, 3.0000e+00,\n",
       "        1.0000e+00, 1.0000e+00, 0.0000e+00, 0.0000e+00, 1.0000e+00]),\n",
       " array([   0. ,  193.2,  386.4,  579.6,  772.8,  966. , 1159.2, 1352.4,\n",
       "        1545.6, 1738.8, 1932. , 2125.2, 2318.4, 2511.6, 2704.8, 2898. ]),\n",
       " <a list of 15 Patch objects>)"
      ]
     },
     "execution_count": 26,
     "metadata": {},
     "output_type": "execute_result"
    },
    {
     "data": {
      "image/png": "[encoded data removed]",
      "text/plain": [
       "<Figure size 432x288 with 1 Axes>"
      ]
     },
     "metadata": {
      "needs_background": "light"
     },
     "output_type": "display_data"
    }
   ],
   "source": [
    "fig, axs = plt.subplots(1, 1, sharey=True, tight_layout=True)\n",
    "axs.hist(miRNA_data.graph.degree(mode=\"out\"), bins=15)"
   ]
  },
  {
   "cell_type": "markdown",
   "metadata": {},
   "source": [
    "## Top 3 by degree"
   ]
  },
  {
   "cell_type": "code",
   "execution_count": 29,
   "metadata": {},
   "outputs": [
    {
     "data": {
      "text/plain": [
       "[2898, 2246, 2072]"
      ]
     },
     "execution_count": 29,
     "metadata": {},
     "output_type": "execute_result"
    }
   ],
   "source": [
    "topList = sorted([[ind, val] for ind, val in enumerate(miRNA_data.graph.degree())], key=lambda x: x[1], reverse=True)[:3]\n",
    "list(map(lambda node: miRNA_data.graph.vs[node[0]].degree(), topList))"
   ]
  },
  {
   "cell_type": "markdown",
   "metadata": {},
   "source": [
    "## Top 3 by IN degree"
   ]
  },
  {
   "cell_type": "code",
   "execution_count": 30,
   "metadata": {},
   "outputs": [
    {
     "data": {
      "text/plain": [
       "[190, 189, 180]"
      ]
     },
     "execution_count": 30,
     "metadata": {},
     "output_type": "execute_result"
    }
   ],
   "source": [
    "topList = sorted([[ind, val] for ind, val in enumerate(miRNA_data.graph.degree(mode=\"in\"))], key=lambda x: x[1], reverse=True)[:3]\n",
    "list(map(lambda node: miRNA_data.graph.vs[node[0]].degree(mode=\"in\"), topList))"
   ]
  },
  {
   "cell_type": "markdown",
   "metadata": {},
   "source": [
    "## Top 3 by OUT degree"
   ]
  },
  {
   "cell_type": "code",
   "execution_count": 31,
   "metadata": {},
   "outputs": [
    {
     "data": {
      "text/plain": [
       "[2898, 2224, 2035]"
      ]
     },
     "execution_count": 31,
     "metadata": {},
     "output_type": "execute_result"
    }
   ],
   "source": [
    "topList = sorted([[ind, val] for ind, val in enumerate(miRNA_data.graph.degree(mode=\"out\"))], key=lambda x: x[1], reverse=True)[:3]\n",
    "list(map(lambda node: miRNA_data.graph.vs[node[0]].degree(mode=\"out\"), topList))"
   ]
  },
  {
   "cell_type": "markdown",
   "metadata": {},
   "source": [
    "# Data for patients"
   ]
  },
  {
   "cell_type": "code",
   "execution_count": 5,
   "metadata": {},
   "outputs": [
    {
     "name": "stdout",
     "output_type": "stream",
     "text": [
      "(15554, 1044)\n"
     ]
    },
    {
     "data": {
      "text/html": [
       "<div>\n",
       "<style scoped>\n",
       "    .dataframe tbody tr th:only-of-type {\n",
       "        vertical-align: middle;\n",
       "    }\n",
       "\n",
       "    .dataframe tbody tr th {\n",
       "        vertical-align: top;\n",
       "    }\n",
       "\n",
       "    .dataframe thead th {\n",
       "        text-align: right;\n",
       "    }\n",
       "</style>\n",
       "<table border=\"1\" class=\"dataframe\">\n",
       "  <thead>\n",
       "    <tr style=\"text-align: right;\">\n",
       "      <th></th>\n",
       "      <th>UNIT_ID</th>\n",
       "      <th>UnitName</th>\n",
       "      <th>EntrezID</th>\n",
       "      <th>GeneSymbol</th>\n",
       "      <th>GSM441627</th>\n",
       "      <th>GSM441628</th>\n",
       "      <th>GSM441629</th>\n",
       "      <th>GSM441643</th>\n",
       "      <th>GSM441644</th>\n",
       "      <th>GSM441657</th>\n",
       "      <th>...</th>\n",
       "      <th>GSM79360</th>\n",
       "      <th>GSM79353</th>\n",
       "      <th>GSM79153</th>\n",
       "      <th>GSM79349</th>\n",
       "      <th>GSM79355</th>\n",
       "      <th>GSM79181</th>\n",
       "      <th>GSM79323</th>\n",
       "      <th>GSM79214</th>\n",
       "      <th>GSM79350</th>\n",
       "      <th>GSM79211</th>\n",
       "    </tr>\n",
       "  </thead>\n",
       "  <tbody>\n",
       "    <tr>\n",
       "      <th>0</th>\n",
       "      <td>25</td>\n",
       "      <td>AFFX-HUMISGF3A/M97935_MA_at</td>\n",
       "      <td>6772</td>\n",
       "      <td>STAT1</td>\n",
       "      <td>258.604</td>\n",
       "      <td>271.703</td>\n",
       "      <td>143.8760</td>\n",
       "      <td>96.2013</td>\n",
       "      <td>211.158</td>\n",
       "      <td>245.954</td>\n",
       "      <td>...</td>\n",
       "      <td>260.148</td>\n",
       "      <td>103.5360</td>\n",
       "      <td>174.966</td>\n",
       "      <td>191.4550</td>\n",
       "      <td>121.6530</td>\n",
       "      <td>122.4570</td>\n",
       "      <td>129.9380</td>\n",
       "      <td>178.902</td>\n",
       "      <td>251.261</td>\n",
       "      <td>103.5830</td>\n",
       "    </tr>\n",
       "    <tr>\n",
       "      <th>1</th>\n",
       "      <td>26</td>\n",
       "      <td>AFFX-HUMISGF3A/M97935_MB_at</td>\n",
       "      <td>6772</td>\n",
       "      <td>STAT1</td>\n",
       "      <td>114.433</td>\n",
       "      <td>148.662</td>\n",
       "      <td>81.2455</td>\n",
       "      <td>58.1097</td>\n",
       "      <td>135.255</td>\n",
       "      <td>169.862</td>\n",
       "      <td>...</td>\n",
       "      <td>214.424</td>\n",
       "      <td>45.7677</td>\n",
       "      <td>104.428</td>\n",
       "      <td>78.0305</td>\n",
       "      <td>58.6785</td>\n",
       "      <td>65.1835</td>\n",
       "      <td>76.1533</td>\n",
       "      <td>125.455</td>\n",
       "      <td>144.751</td>\n",
       "      <td>57.6514</td>\n",
       "    </tr>\n",
       "    <tr>\n",
       "      <th>2</th>\n",
       "      <td>27</td>\n",
       "      <td>AFFX-HUMISGF3A/M97935_3_at</td>\n",
       "      <td>6772</td>\n",
       "      <td>STAT1</td>\n",
       "      <td>609.059</td>\n",
       "      <td>562.069</td>\n",
       "      <td>349.9580</td>\n",
       "      <td>191.2970</td>\n",
       "      <td>879.009</td>\n",
       "      <td>771.731</td>\n",
       "      <td>...</td>\n",
       "      <td>1205.720</td>\n",
       "      <td>143.9720</td>\n",
       "      <td>789.292</td>\n",
       "      <td>1128.1100</td>\n",
       "      <td>287.0620</td>\n",
       "      <td>334.0280</td>\n",
       "      <td>386.8000</td>\n",
       "      <td>652.239</td>\n",
       "      <td>1164.150</td>\n",
       "      <td>269.3320</td>\n",
       "    </tr>\n",
       "    <tr>\n",
       "      <th>3</th>\n",
       "      <td>31</td>\n",
       "      <td>AFFX-HUMGAPDH/M33197_5_at</td>\n",
       "      <td>2597</td>\n",
       "      <td>GAPDH</td>\n",
       "      <td>4470.210</td>\n",
       "      <td>4570.150</td>\n",
       "      <td>2186.3100</td>\n",
       "      <td>4799.3800</td>\n",
       "      <td>6296.870</td>\n",
       "      <td>4864.770</td>\n",
       "      <td>...</td>\n",
       "      <td>2647.440</td>\n",
       "      <td>2678.1600</td>\n",
       "      <td>1562.820</td>\n",
       "      <td>1009.7900</td>\n",
       "      <td>4489.6300</td>\n",
       "      <td>2030.0600</td>\n",
       "      <td>2990.5000</td>\n",
       "      <td>2602.680</td>\n",
       "      <td>1699.050</td>\n",
       "      <td>2332.6800</td>\n",
       "    </tr>\n",
       "    <tr>\n",
       "      <th>4</th>\n",
       "      <td>32</td>\n",
       "      <td>AFFX-HUMGAPDH/M33197_M_at</td>\n",
       "      <td>2597</td>\n",
       "      <td>GAPDH</td>\n",
       "      <td>5183.690</td>\n",
       "      <td>4677.370</td>\n",
       "      <td>2771.9800</td>\n",
       "      <td>5587.2800</td>\n",
       "      <td>7326.030</td>\n",
       "      <td>5456.950</td>\n",
       "      <td>...</td>\n",
       "      <td>3957.630</td>\n",
       "      <td>4781.1200</td>\n",
       "      <td>2632.850</td>\n",
       "      <td>2252.8800</td>\n",
       "      <td>6344.9700</td>\n",
       "      <td>3244.9100</td>\n",
       "      <td>4166.8100</td>\n",
       "      <td>3619.780</td>\n",
       "      <td>2916.770</td>\n",
       "      <td>4011.9500</td>\n",
       "    </tr>\n",
       "  </tbody>\n",
       "</table>\n",
       "<p>5 rows × 1044 columns</p>\n",
       "</div>"
      ],
      "text/plain": [
       "   UNIT_ID                     UnitName  EntrezID GeneSymbol  GSM441627  \\\n",
       "0       25  AFFX-HUMISGF3A/M97935_MA_at      6772      STAT1    258.604   \n",
       "1       26  AFFX-HUMISGF3A/M97935_MB_at      6772      STAT1    114.433   \n",
       "2       27   AFFX-HUMISGF3A/M97935_3_at      6772      STAT1    609.059   \n",
       "3       31    AFFX-HUMGAPDH/M33197_5_at      2597      GAPDH   4470.210   \n",
       "4       32    AFFX-HUMGAPDH/M33197_M_at      2597      GAPDH   5183.690   \n",
       "\n",
       "   GSM441628  GSM441629  GSM441643  GSM441644  GSM441657  ...  GSM79360  \\\n",
       "0    271.703   143.8760    96.2013    211.158    245.954  ...   260.148   \n",
       "1    148.662    81.2455    58.1097    135.255    169.862  ...   214.424   \n",
       "2    562.069   349.9580   191.2970    879.009    771.731  ...  1205.720   \n",
       "3   4570.150  2186.3100  4799.3800   6296.870   4864.770  ...  2647.440   \n",
       "4   4677.370  2771.9800  5587.2800   7326.030   5456.950  ...  3957.630   \n",
       "\n",
       "    GSM79353  GSM79153   GSM79349   GSM79355   GSM79181   GSM79323  GSM79214  \\\n",
       "0   103.5360   174.966   191.4550   121.6530   122.4570   129.9380   178.902   \n",
       "1    45.7677   104.428    78.0305    58.6785    65.1835    76.1533   125.455   \n",
       "2   143.9720   789.292  1128.1100   287.0620   334.0280   386.8000   652.239   \n",
       "3  2678.1600  1562.820  1009.7900  4489.6300  2030.0600  2990.5000  2602.680   \n",
       "4  4781.1200  2632.850  2252.8800  6344.9700  3244.9100  4166.8100  3619.780   \n",
       "\n",
       "   GSM79350   GSM79211  \n",
       "0   251.261   103.5830  \n",
       "1   144.751    57.6514  \n",
       "2  1164.150   269.3320  \n",
       "3  1699.050  2332.6800  \n",
       "4  2916.770  4011.9500  \n",
       "\n",
       "[5 rows x 1044 columns]"
      ]
     },
     "execution_count": 5,
     "metadata": {},
     "output_type": "execute_result"
    }
   ],
   "source": [
    "data = pd.read_csv('processed/good.csv')\n",
    "print(data.shape)\n",
    "data.head()"
   ]
  },
  {
   "cell_type": "code",
   "execution_count": 7,
   "metadata": {},
   "outputs": [
    {
     "name": "stdout",
     "output_type": "stream",
     "text": [
      "(1040, 2)\n"
     ]
    },
    {
     "data": {
      "text/html": [
       "<div>\n",
       "<style scoped>\n",
       "    .dataframe tbody tr th:only-of-type {\n",
       "        vertical-align: middle;\n",
       "    }\n",
       "\n",
       "    .dataframe tbody tr th {\n",
       "        vertical-align: top;\n",
       "    }\n",
       "\n",
       "    .dataframe thead th {\n",
       "        text-align: right;\n",
       "    }\n",
       "</style>\n",
       "<table border=\"1\" class=\"dataframe\">\n",
       "  <thead>\n",
       "    <tr style=\"text-align: right;\">\n",
       "      <th></th>\n",
       "      <th>Person</th>\n",
       "      <th>Status</th>\n",
       "    </tr>\n",
       "  </thead>\n",
       "  <tbody>\n",
       "    <tr>\n",
       "      <th>0</th>\n",
       "      <td>GSM441627</td>\n",
       "      <td>TooLate0</td>\n",
       "    </tr>\n",
       "    <tr>\n",
       "      <th>1</th>\n",
       "      <td>GSM441628</td>\n",
       "      <td>relapse</td>\n",
       "    </tr>\n",
       "    <tr>\n",
       "      <th>2</th>\n",
       "      <td>GSM441629</td>\n",
       "      <td>relapse</td>\n",
       "    </tr>\n",
       "    <tr>\n",
       "      <th>3</th>\n",
       "      <td>GSM441643</td>\n",
       "      <td>relapse</td>\n",
       "    </tr>\n",
       "    <tr>\n",
       "      <th>4</th>\n",
       "      <td>GSM441644</td>\n",
       "      <td>relapse</td>\n",
       "    </tr>\n",
       "  </tbody>\n",
       "</table>\n",
       "</div>"
      ],
      "text/plain": [
       "      Person    Status\n",
       "0  GSM441627  TooLate0\n",
       "1  GSM441628   relapse\n",
       "2  GSM441629   relapse\n",
       "3  GSM441643   relapse\n",
       "4  GSM441644   relapse"
      ]
     },
     "execution_count": 7,
     "metadata": {},
     "output_type": "execute_result"
    }
   ],
   "source": [
    "data2 = pd.read_csv('processed/total.csv', names=[\"Person\", \"Status\"])\n",
    "print(data2.shape)\n",
    "data2.head()"
   ]
  },
  {
   "cell_type": "code",
   "execution_count": 8,
   "metadata": {},
   "outputs": [
    {
     "data": {
      "text/plain": [
       "array(['TooLate0', 'relapse', 'no_relapse', 'TooEarly0', 'TooLate1',\n",
       "       'test1relapse', 'TooEarly1', 'test1no_relapse', 'test2relapse',\n",
       "       'TooLate2', 'test2no_relapse', 'TooEarly2', 'NewTest1_Relapse',\n",
       "       'NewTest1_NoRelapse', 'TooLate3', 'TooEarly3', 'NewTest2_Relapse',\n",
       "       'NewTest2_NoRelapse', 'TooLate4', 'TooEarly4'], dtype=object)"
      ]
     },
     "execution_count": 8,
     "metadata": {},
     "output_type": "execute_result"
    }
   ],
   "source": [
    "data2['Status'].unique()"
   ]
  },
  {
   "cell_type": "markdown",
   "metadata": {},
   "source": [
    "## Strong connected components analysis"
   ]
  },
  {
   "cell_type": "code",
   "execution_count": 6,
   "metadata": {},
   "outputs": [
    {
     "name": "stdout",
     "output_type": "stream",
     "text": [
      "IGRAPH D--- 13514 62702 -- \n"
     ]
    }
   ],
   "source": [
    "summary(miRNA_data.graph.components().cluster_graph())"
   ]
  },
  {
   "cell_type": "code",
   "execution_count": 7,
   "metadata": {},
   "outputs": [],
   "source": [
    "# get graph of strong connected components\n",
    "subgraphs = miRNA_data.graph.components().subgraphs()\n",
    "\n",
    "# subgraphs ordered by vertex count\n",
    "ordered_subgraphs= sorted(subgraphs, key=lambda subgraph: subgraph.vcount(), reverse=True)\n",
    "\n",
    "# the only non trivial cluster\n",
    "cluster = ordered_subgraphs[0]\n"
   ]
  },
  {
   "cell_type": "code",
   "execution_count": 8,
   "metadata": {},
   "outputs": [
    {
     "data": {
      "text/plain": [
       "8"
      ]
     },
     "execution_count": 8,
     "metadata": {},
     "output_type": "execute_result"
    }
   ],
   "source": [
    "cluster_data = GraphWrapper(graph=cluster)\n",
    "cluster_data.graph.diameter()"
   ]
  },
  {
   "cell_type": "code",
   "execution_count": 9,
   "metadata": {},
   "outputs": [
    {
     "data": {
      "text/plain": [
       "'IGRAPH DN-- 674 10175 -- \\n+ attr: label (v), name (v)'"
      ]
     },
     "execution_count": 9,
     "metadata": {},
     "output_type": "execute_result"
    }
   ],
   "source": [
    "cluster_data.graph.summary()"
   ]
  },
  {
   "cell_type": "code",
   "execution_count": 37,
   "metadata": {},
   "outputs": [
    {
     "name": "stdout",
     "output_type": "stream",
     "text": [
      "179\n"
     ]
    }
   ],
   "source": [
    "print(len(cluster_data.get_knet(1)))"
   ]
  },
  {
   "cell_type": "code",
   "execution_count": 38,
   "metadata": {},
   "outputs": [
    {
     "name": "stdout",
     "output_type": "stream",
     "text": [
      "55\n"
     ]
    }
   ],
   "source": [
    "print(len(cluster_data.get_knet(2)))"
   ]
  },
  {
   "cell_type": "code",
   "execution_count": 39,
   "metadata": {},
   "outputs": [
    {
     "name": "stdout",
     "output_type": "stream",
     "text": [
      "16\n"
     ]
    }
   ],
   "source": [
    "print(len(cluster_data.get_knet(3)))"
   ]
  },
  {
   "cell_type": "code",
   "execution_count": 40,
   "metadata": {},
   "outputs": [
    {
     "name": "stdout",
     "output_type": "stream",
     "text": [
      "3\n"
     ]
    }
   ],
   "source": [
    "print(len(cluster_data.get_knet(4)))"
   ]
  },
  {
   "cell_type": "code",
   "execution_count": 41,
   "metadata": {},
   "outputs": [
    {
     "name": "stdout",
     "output_type": "stream",
     "text": [
      "2\n"
     ]
    }
   ],
   "source": [
    "print(len(cluster_data.get_knet(5)))"
   ]
  },
  {
   "cell_type": "code",
   "execution_count": 47,
   "metadata": {},
   "outputs": [
    {
     "name": "stdout",
     "output_type": "stream",
     "text": [
      "2\n"
     ]
    }
   ],
   "source": [
    "print(len(cluster_data.get_knet(7)))"
   ]
  },
  {
   "cell_type": "code",
   "execution_count": 44,
   "metadata": {},
   "outputs": [
    {
     "name": "stdout",
     "output_type": "stream",
     "text": [
      "2\n"
     ]
    }
   ],
   "source": [
    "print(len(cluster_data.get_knet(8)))"
   ]
  },
  {
   "cell_type": "code",
   "execution_count": 45,
   "metadata": {},
   "outputs": [
    {
     "data": {
      "text/plain": [
       "674"
      ]
     },
     "execution_count": 45,
     "metadata": {},
     "output_type": "execute_result"
    }
   ],
   "source": [
    "cluster_data.graph.vcount()"
   ]
  },
  {
   "cell_type": "code",
   "execution_count": null,
   "metadata": {},
   "outputs": [],
   "source": []
  }
 ],
 "metadata": {
  "kernelspec": {
   "display_name": "Python 3",
   "language": "python",
   "name": "python3"
  },
  "language_info": {
   "codemirror_mode": {
    "name": "ipython",
    "version": 3
   },
   "file_extension": ".py",
   "mimetype": "text/x-python",
   "name": "python",
   "nbconvert_exporter": "python",
   "pygments_lexer": "ipython3",
   "version": "3.7.6"
  }
 },
 "nbformat": 4,
 "nbformat_minor": 2
}

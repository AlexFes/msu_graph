{
 "cells": [
  {
   "cell_type": "code",
   "execution_count": 2,
   "metadata": {},
   "outputs": [],
   "source": [
    "from igraph import *\n",
    "import cairo\n",
    "import pandas as pd\n",
    "import matplotlib\n",
    "import matplotlib.pyplot as plt\n",
    "\n",
    "import csv\n",
    "from itertools import groupby\n",
    "\n",
    "import utils\n",
    "\n",
    "%load_ext autoreload\n",
    "%autoreload 2"
   ]
  },
  {
   "cell_type": "code",
   "execution_count": 21,
   "metadata": {},
   "outputs": [
    {
     "data": {
      "text/html": [
       "<div>\n",
       "<style scoped>\n",
       "    .dataframe tbody tr th:only-of-type {\n",
       "        vertical-align: middle;\n",
       "    }\n",
       "\n",
       "    .dataframe tbody tr th {\n",
       "        vertical-align: top;\n",
       "    }\n",
       "\n",
       "    .dataframe thead th {\n",
       "        text-align: right;\n",
       "    }\n",
       "</style>\n",
       "<table border=\"1\" class=\"dataframe\">\n",
       "  <thead>\n",
       "    <tr style=\"text-align: right;\">\n",
       "      <th></th>\n",
       "      <th>host</th>\n",
       "      <th>target</th>\n",
       "    </tr>\n",
       "  </thead>\n",
       "  <tbody>\n",
       "    <tr>\n",
       "      <th>0</th>\n",
       "      <td>RNF170</td>\n",
       "      <td>TMA16</td>\n",
       "    </tr>\n",
       "    <tr>\n",
       "      <th>1</th>\n",
       "      <td>RNF170</td>\n",
       "      <td>SLC1A1</td>\n",
       "    </tr>\n",
       "    <tr>\n",
       "      <th>2</th>\n",
       "      <td>RNF170</td>\n",
       "      <td>CAPN15</td>\n",
       "    </tr>\n",
       "    <tr>\n",
       "      <th>3</th>\n",
       "      <td>RNF170</td>\n",
       "      <td>RCOR1</td>\n",
       "    </tr>\n",
       "    <tr>\n",
       "      <th>4</th>\n",
       "      <td>RNF170</td>\n",
       "      <td>PIK3C2B</td>\n",
       "    </tr>\n",
       "  </tbody>\n",
       "</table>\n",
       "</div>"
      ],
      "text/plain": [
       "     host   target\n",
       "0  RNF170    TMA16\n",
       "1  RNF170   SLC1A1\n",
       "2  RNF170   CAPN15\n",
       "3  RNF170    RCOR1\n",
       "4  RNF170  PIK3C2B"
      ]
     },
     "execution_count": 21,
     "metadata": {},
     "output_type": "execute_result"
    }
   ],
   "source": [
    "data = pd.read_csv('processed/result.csv')\n",
    "data.head()"
   ]
  },
  {
   "cell_type": "code",
   "execution_count": 6,
   "metadata": {
    "scrolled": true
   },
   "outputs": [
    {
     "data": {
      "text/html": [
       "<div>\n",
       "<style scoped>\n",
       "    .dataframe tbody tr th:only-of-type {\n",
       "        vertical-align: middle;\n",
       "    }\n",
       "\n",
       "    .dataframe tbody tr th {\n",
       "        vertical-align: top;\n",
       "    }\n",
       "\n",
       "    .dataframe thead th {\n",
       "        text-align: right;\n",
       "    }\n",
       "</style>\n",
       "<table border=\"1\" class=\"dataframe\">\n",
       "  <thead>\n",
       "    <tr style=\"text-align: right;\">\n",
       "      <th></th>\n",
       "      <th>UNIT_ID</th>\n",
       "      <th>UnitName</th>\n",
       "      <th>EntrezID</th>\n",
       "      <th>GeneSymbol</th>\n",
       "      <th>GSM441627</th>\n",
       "      <th>GSM441628</th>\n",
       "      <th>GSM441629</th>\n",
       "      <th>GSM441643</th>\n",
       "      <th>GSM441644</th>\n",
       "      <th>GSM441657</th>\n",
       "      <th>...</th>\n",
       "      <th>GSM79360</th>\n",
       "      <th>GSM79353</th>\n",
       "      <th>GSM79153</th>\n",
       "      <th>GSM79349</th>\n",
       "      <th>GSM79355</th>\n",
       "      <th>GSM79181</th>\n",
       "      <th>GSM79323</th>\n",
       "      <th>GSM79214</th>\n",
       "      <th>GSM79350</th>\n",
       "      <th>GSM79211</th>\n",
       "    </tr>\n",
       "  </thead>\n",
       "  <tbody>\n",
       "    <tr>\n",
       "      <th>0</th>\n",
       "      <td>25</td>\n",
       "      <td>AFFX-HUMISGF3A/M97935_MA_at</td>\n",
       "      <td>6772</td>\n",
       "      <td>STAT1</td>\n",
       "      <td>258.604</td>\n",
       "      <td>271.703</td>\n",
       "      <td>143.8760</td>\n",
       "      <td>96.2013</td>\n",
       "      <td>211.158</td>\n",
       "      <td>245.954</td>\n",
       "      <td>...</td>\n",
       "      <td>260.148</td>\n",
       "      <td>103.5360</td>\n",
       "      <td>174.966</td>\n",
       "      <td>191.4550</td>\n",
       "      <td>121.6530</td>\n",
       "      <td>122.4570</td>\n",
       "      <td>129.9380</td>\n",
       "      <td>178.902</td>\n",
       "      <td>251.261</td>\n",
       "      <td>103.5830</td>\n",
       "    </tr>\n",
       "    <tr>\n",
       "      <th>1</th>\n",
       "      <td>26</td>\n",
       "      <td>AFFX-HUMISGF3A/M97935_MB_at</td>\n",
       "      <td>6772</td>\n",
       "      <td>STAT1</td>\n",
       "      <td>114.433</td>\n",
       "      <td>148.662</td>\n",
       "      <td>81.2455</td>\n",
       "      <td>58.1097</td>\n",
       "      <td>135.255</td>\n",
       "      <td>169.862</td>\n",
       "      <td>...</td>\n",
       "      <td>214.424</td>\n",
       "      <td>45.7677</td>\n",
       "      <td>104.428</td>\n",
       "      <td>78.0305</td>\n",
       "      <td>58.6785</td>\n",
       "      <td>65.1835</td>\n",
       "      <td>76.1533</td>\n",
       "      <td>125.455</td>\n",
       "      <td>144.751</td>\n",
       "      <td>57.6514</td>\n",
       "    </tr>\n",
       "    <tr>\n",
       "      <th>2</th>\n",
       "      <td>27</td>\n",
       "      <td>AFFX-HUMISGF3A/M97935_3_at</td>\n",
       "      <td>6772</td>\n",
       "      <td>STAT1</td>\n",
       "      <td>609.059</td>\n",
       "      <td>562.069</td>\n",
       "      <td>349.9580</td>\n",
       "      <td>191.2970</td>\n",
       "      <td>879.009</td>\n",
       "      <td>771.731</td>\n",
       "      <td>...</td>\n",
       "      <td>1205.720</td>\n",
       "      <td>143.9720</td>\n",
       "      <td>789.292</td>\n",
       "      <td>1128.1100</td>\n",
       "      <td>287.0620</td>\n",
       "      <td>334.0280</td>\n",
       "      <td>386.8000</td>\n",
       "      <td>652.239</td>\n",
       "      <td>1164.150</td>\n",
       "      <td>269.3320</td>\n",
       "    </tr>\n",
       "    <tr>\n",
       "      <th>3</th>\n",
       "      <td>31</td>\n",
       "      <td>AFFX-HUMGAPDH/M33197_5_at</td>\n",
       "      <td>2597</td>\n",
       "      <td>GAPDH</td>\n",
       "      <td>4470.210</td>\n",
       "      <td>4570.150</td>\n",
       "      <td>2186.3100</td>\n",
       "      <td>4799.3800</td>\n",
       "      <td>6296.870</td>\n",
       "      <td>4864.770</td>\n",
       "      <td>...</td>\n",
       "      <td>2647.440</td>\n",
       "      <td>2678.1600</td>\n",
       "      <td>1562.820</td>\n",
       "      <td>1009.7900</td>\n",
       "      <td>4489.6300</td>\n",
       "      <td>2030.0600</td>\n",
       "      <td>2990.5000</td>\n",
       "      <td>2602.680</td>\n",
       "      <td>1699.050</td>\n",
       "      <td>2332.6800</td>\n",
       "    </tr>\n",
       "    <tr>\n",
       "      <th>4</th>\n",
       "      <td>32</td>\n",
       "      <td>AFFX-HUMGAPDH/M33197_M_at</td>\n",
       "      <td>2597</td>\n",
       "      <td>GAPDH</td>\n",
       "      <td>5183.690</td>\n",
       "      <td>4677.370</td>\n",
       "      <td>2771.9800</td>\n",
       "      <td>5587.2800</td>\n",
       "      <td>7326.030</td>\n",
       "      <td>5456.950</td>\n",
       "      <td>...</td>\n",
       "      <td>3957.630</td>\n",
       "      <td>4781.1200</td>\n",
       "      <td>2632.850</td>\n",
       "      <td>2252.8800</td>\n",
       "      <td>6344.9700</td>\n",
       "      <td>3244.9100</td>\n",
       "      <td>4166.8100</td>\n",
       "      <td>3619.780</td>\n",
       "      <td>2916.770</td>\n",
       "      <td>4011.9500</td>\n",
       "    </tr>\n",
       "  </tbody>\n",
       "</table>\n",
       "<p>5 rows × 1044 columns</p>\n",
       "</div>"
      ],
      "text/plain": [
       "   UNIT_ID                     UnitName  EntrezID GeneSymbol  GSM441627  \\\n",
       "0       25  AFFX-HUMISGF3A/M97935_MA_at      6772      STAT1    258.604   \n",
       "1       26  AFFX-HUMISGF3A/M97935_MB_at      6772      STAT1    114.433   \n",
       "2       27   AFFX-HUMISGF3A/M97935_3_at      6772      STAT1    609.059   \n",
       "3       31    AFFX-HUMGAPDH/M33197_5_at      2597      GAPDH   4470.210   \n",
       "4       32    AFFX-HUMGAPDH/M33197_M_at      2597      GAPDH   5183.690   \n",
       "\n",
       "   GSM441628  GSM441629  GSM441643  GSM441644  GSM441657  ...  GSM79360  \\\n",
       "0    271.703   143.8760    96.2013    211.158    245.954  ...   260.148   \n",
       "1    148.662    81.2455    58.1097    135.255    169.862  ...   214.424   \n",
       "2    562.069   349.9580   191.2970    879.009    771.731  ...  1205.720   \n",
       "3   4570.150  2186.3100  4799.3800   6296.870   4864.770  ...  2647.440   \n",
       "4   4677.370  2771.9800  5587.2800   7326.030   5456.950  ...  3957.630   \n",
       "\n",
       "    GSM79353  GSM79153   GSM79349   GSM79355   GSM79181   GSM79323  GSM79214  \\\n",
       "0   103.5360   174.966   191.4550   121.6530   122.4570   129.9380   178.902   \n",
       "1    45.7677   104.428    78.0305    58.6785    65.1835    76.1533   125.455   \n",
       "2   143.9720   789.292  1128.1100   287.0620   334.0280   386.8000   652.239   \n",
       "3  2678.1600  1562.820  1009.7900  4489.6300  2030.0600  2990.5000  2602.680   \n",
       "4  4781.1200  2632.850  2252.8800  6344.9700  3244.9100  4166.8100  3619.780   \n",
       "\n",
       "   GSM79350   GSM79211  \n",
       "0   251.261   103.5830  \n",
       "1   144.751    57.6514  \n",
       "2  1164.150   269.3320  \n",
       "3  1699.050  2332.6800  \n",
       "4  2916.770  4011.9500  \n",
       "\n",
       "[5 rows x 1044 columns]"
      ]
     },
     "execution_count": 6,
     "metadata": {},
     "output_type": "execute_result"
    }
   ],
   "source": [
    "data = pd.read_csv('processed/good.csv')\n",
    "data.head()"
   ]
  },
  {
   "cell_type": "code",
   "execution_count": 7,
   "metadata": {},
   "outputs": [
    {
     "data": {
      "text/html": [
       "<div>\n",
       "<style scoped>\n",
       "    .dataframe tbody tr th:only-of-type {\n",
       "        vertical-align: middle;\n",
       "    }\n",
       "\n",
       "    .dataframe tbody tr th {\n",
       "        vertical-align: top;\n",
       "    }\n",
       "\n",
       "    .dataframe thead th {\n",
       "        text-align: right;\n",
       "    }\n",
       "</style>\n",
       "<table border=\"1\" class=\"dataframe\">\n",
       "  <thead>\n",
       "    <tr style=\"text-align: right;\">\n",
       "      <th></th>\n",
       "      <th>GSM441627</th>\n",
       "      <th>TooLate0</th>\n",
       "    </tr>\n",
       "  </thead>\n",
       "  <tbody>\n",
       "    <tr>\n",
       "      <th>0</th>\n",
       "      <td>GSM441628</td>\n",
       "      <td>relapse</td>\n",
       "    </tr>\n",
       "    <tr>\n",
       "      <th>1</th>\n",
       "      <td>GSM441629</td>\n",
       "      <td>relapse</td>\n",
       "    </tr>\n",
       "    <tr>\n",
       "      <th>2</th>\n",
       "      <td>GSM441643</td>\n",
       "      <td>relapse</td>\n",
       "    </tr>\n",
       "    <tr>\n",
       "      <th>3</th>\n",
       "      <td>GSM441644</td>\n",
       "      <td>relapse</td>\n",
       "    </tr>\n",
       "    <tr>\n",
       "      <th>4</th>\n",
       "      <td>GSM441657</td>\n",
       "      <td>relapse</td>\n",
       "    </tr>\n",
       "  </tbody>\n",
       "</table>\n",
       "</div>"
      ],
      "text/plain": [
       "   GSM441627 TooLate0\n",
       "0  GSM441628  relapse\n",
       "1  GSM441629  relapse\n",
       "2  GSM441643  relapse\n",
       "3  GSM441644  relapse\n",
       "4  GSM441657  relapse"
      ]
     },
     "execution_count": 7,
     "metadata": {},
     "output_type": "execute_result"
    }
   ],
   "source": [
    "data = pd.read_csv('processed/total.csv')\n",
    "data.head()"
   ]
  },
  {
   "cell_type": "code",
   "execution_count": 25,
   "metadata": {},
   "outputs": [],
   "source": [
    "g = utils.set_graph(data, True)"
   ]
  },
  {
   "cell_type": "code",
   "execution_count": null,
   "metadata": {},
   "outputs": [],
   "source": [
    "knet = utils.get_knet(g, 1)\n",
    "print(knet)"
   ]
  },
  {
   "cell_type": "code",
   "execution_count": 29,
   "metadata": {},
   "outputs": [
    {
     "data": {
      "text/plain": [
       "9"
      ]
     },
     "execution_count": 29,
     "metadata": {},
     "output_type": "execute_result"
    }
   ],
   "source": [
    "g.diameter()"
   ]
  },
  {
   "cell_type": "code",
   "execution_count": 15,
   "metadata": {},
   "outputs": [
    {
     "data": {
      "text/plain": [
       "[328, 114, 1301, 102, 447]"
      ]
     },
     "execution_count": 15,
     "metadata": {},
     "output_type": "execute_result"
    }
   ],
   "source": [
    "g.degree()[:5]"
   ]
  },
  {
   "cell_type": "markdown",
   "metadata": {},
   "source": [
    "## Top 3 by degree"
   ]
  },
  {
   "cell_type": "code",
   "execution_count": 16,
   "metadata": {},
   "outputs": [
    {
     "data": {
      "text/plain": [
       "['MEST', 'MCM7', 'C9orf3']"
      ]
     },
     "execution_count": 16,
     "metadata": {},
     "output_type": "execute_result"
    }
   ],
   "source": [
    "topList = sorted([[ind, val] for ind, val in enumerate(g.degree())], key=lambda x: x[1], reverse=True)[:3]\n",
    "list(map(lambda node: g.vs[node[0]]['name'], topList))"
   ]
  },
  {
   "cell_type": "markdown",
   "metadata": {},
   "source": [
    "## Top 3 by IN degree"
   ]
  },
  {
   "cell_type": "code",
   "execution_count": 17,
   "metadata": {},
   "outputs": [
    {
     "data": {
      "text/plain": [
       "['CDKN1A', 'ZNF460', 'AGO2']"
      ]
     },
     "execution_count": 17,
     "metadata": {},
     "output_type": "execute_result"
    }
   ],
   "source": [
    "topList = sorted([[ind, val] for ind, val in enumerate(g.degree(mode=\"in\"))], key=lambda x: x[1], reverse=True)[:3]\n",
    "list(map(lambda node: g.vs[node[0]]['name'], topList))"
   ]
  },
  {
   "cell_type": "markdown",
   "metadata": {},
   "source": [
    "## Top 3 by OUT degree"
   ]
  },
  {
   "cell_type": "code",
   "execution_count": 18,
   "metadata": {},
   "outputs": [
    {
     "data": {
      "text/plain": [
       "['MEST', 'MCM7', 'C9orf3']"
      ]
     },
     "execution_count": 18,
     "metadata": {},
     "output_type": "execute_result"
    }
   ],
   "source": [
    "topList = sorted([[ind, val] for ind, val in enumerate(g.degree(mode=\"out\"))], key=lambda x: x[1], reverse=True)[:3]\n",
    "list(map(lambda node: g.vs[node[0]]['name'], topList))"
   ]
  },
  {
   "cell_type": "code",
   "execution_count": 19,
   "metadata": {},
   "outputs": [
    {
     "name": "stdout",
     "output_type": "stream",
     "text": [
      "IGRAPH D--- 13514 62702 -- \n"
     ]
    }
   ],
   "source": [
    "summary(g.components().cluster_graph())"
   ]
  },
  {
   "cell_type": "code",
   "execution_count": 10,
   "metadata": {},
   "outputs": [],
   "source": [
    "# get strong connected components\n",
    "components = g.components()\n",
    "subgraphs = components.subgraphs()\n",
    "\n",
    "# vertex counts for subgraphs\n",
    "ordered_counts = sorted([graph.vcount() for graph in subgraphs])\n",
    "x = [list(group)[0] for key, group in groupby(ordered_counts)]\n",
    "y = [len(list(group)) for key, group in groupby(ordered_counts)]"
   ]
  },
  {
   "cell_type": "code",
   "execution_count": 11,
   "metadata": {},
   "outputs": [
    {
     "name": "stdout",
     "output_type": "stream",
     "text": [
      "[1, 674]\n",
      "[13513, 1]\n"
     ]
    }
   ],
   "source": [
    "print(x)\n",
    "print(y)"
   ]
  },
  {
   "cell_type": "code",
   "execution_count": 12,
   "metadata": {},
   "outputs": [
    {
     "data": {
      "text/plain": [
       "8"
      ]
     },
     "execution_count": 12,
     "metadata": {},
     "output_type": "execute_result"
    }
   ],
   "source": [
    "max([graph.diameter() for graph in subgraphs])"
   ]
  },
  {
   "cell_type": "code",
   "execution_count": null,
   "metadata": {},
   "outputs": [],
   "source": []
  }
 ],
 "metadata": {
  "kernelspec": {
   "display_name": "Python 3",
   "language": "python",
   "name": "python3"
  },
  "language_info": {
   "codemirror_mode": {
    "name": "ipython",
    "version": 3
   },
   "file_extension": ".py",
   "mimetype": "text/x-python",
   "name": "python",
   "nbconvert_exporter": "python",
   "pygments_lexer": "ipython3",
   "version": "3.7.6"
  }
 },
 "nbformat": 4,
 "nbformat_minor": 2
}
